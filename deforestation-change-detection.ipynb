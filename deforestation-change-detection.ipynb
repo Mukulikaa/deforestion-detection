{
 "cells": [
  {
   "cell_type": "code",
   "execution_count": 1,
   "id": "fcbe7038",
   "metadata": {
    "scrolled": true
   },
   "outputs": [],
   "source": [
    "# import necessary libraries\n",
    "\n",
    "import numpy as np\n",
    "import pandas as pd\n",
    "import matplotlib.pyplot as plt\n",
    "from PIL import Image\n",
    "import plotly.express as px"
   ]
  },
  {
   "cell_type": "code",
   "execution_count": 2,
   "id": "0e13f1ba",
   "metadata": {},
   "outputs": [
    {
     "name": "stdout",
     "output_type": "stream",
     "text": [
      "        image_name                                           tags\n",
      "0          train_0                                   haze primary\n",
      "1          train_1                agriculture clear primary water\n",
      "2          train_2                                  clear primary\n",
      "3          train_3                                  clear primary\n",
      "4          train_4      agriculture clear habitation primary road\n",
      "...            ...                                            ...\n",
      "40474  train_40474                                  clear primary\n",
      "40475  train_40475                                         cloudy\n",
      "40476  train_40476                      agriculture clear primary\n",
      "40477  train_40477                 agriculture clear primary road\n",
      "40478  train_40478  agriculture cultivation partly_cloudy primary\n",
      "\n",
      "[40479 rows x 2 columns]\n"
     ]
    }
   ],
   "source": [
    "# training dataset\n",
    "\n",
    "train_df = pd.read_csv('train_classes.csv')\n",
    "print(train_df)\n",
    "\n",
    "# filter tags\n",
    "\n",
    "DEFORESTATION_TAGS = [\n",
    "    \"agriculture\",\n",
    "    \"artisinal_mine\",\n",
    "    \"conventional_mine\",\n",
    "    \"cultivation\",\n",
    "    \"road\",\n",
    "    \"selective_logging\",\n",
    "    \"slash_burn\",\n",
    "]"
   ]
  },
  {
   "cell_type": "code",
   "execution_count": 3,
   "id": "23f3e429",
   "metadata": {},
   "outputs": [
    {
     "name": "stdout",
     "output_type": "stream",
     "text": [
      "(6357, 6490)\n",
      "(6358, 6492)\n"
     ]
    }
   ],
   "source": [
    "# testing dataset\n",
    "# import satellite images of Navi Mumbai taken by LANDSAT 8\n",
    "# source: https://earthexplorer.usgs.gov/\n",
    "\n",
    "image_2020 = Image.open(\"LC08_L1TP_147047_20200507_20200509_01_T1.png\")\n",
    "image_2021 = Image.open(\"LC08_L1TP_147047_20210510_20210518_01_T1.png\")\n",
    "\n",
    "image_2020.show()\n",
    "image_2021.show()\n",
    "\n",
    "# check image sizes; should be almost same\n",
    "\n",
    "print(image_2020.size)\n",
    "print(image_2021.size)"
   ]
  },
  {
   "cell_type": "code",
   "execution_count": 4,
   "id": "eb40e3db",
   "metadata": {},
   "outputs": [
    {
     "name": "stdout",
     "output_type": "stream",
     "text": [
      "2020: [[[0 1 6]\n",
      "  [1 0 5]\n",
      "  [1 0 3]\n",
      "  ...\n",
      "  [0 0 0]\n",
      "  [0 0 0]\n",
      "  [0 0 0]]\n",
      "\n",
      " [[1 0 7]\n",
      "  [1 0 7]\n",
      "  [3 2 5]\n",
      "  ...\n",
      "  [0 0 0]\n",
      "  [0 0 0]\n",
      "  [0 0 0]]\n",
      "\n",
      " [[1 1 2]\n",
      "  [1 1 3]\n",
      "  [2 1 3]\n",
      "  ...\n",
      "  [0 0 0]\n",
      "  [0 0 0]\n",
      "  [0 0 0]]]\n",
      "2021: [[[1 1 0]\n",
      "  [0 0 0]\n",
      "  [0 0 0]\n",
      "  ...\n",
      "  [0 0 0]\n",
      "  [0 0 0]\n",
      "  [0 0 0]]\n",
      "\n",
      " [[0 0 0]\n",
      "  [0 0 0]\n",
      "  [0 0 0]\n",
      "  ...\n",
      "  [0 0 0]\n",
      "  [0 0 0]\n",
      "  [0 0 0]]\n",
      "\n",
      " [[1 1 3]\n",
      "  [1 1 3]\n",
      "  [0 0 2]\n",
      "  ...\n",
      "  [0 0 0]\n",
      "  [0 0 0]\n",
      "  [0 0 0]]]\n"
     ]
    }
   ],
   "source": [
    "# convert images to multidimensional arrays for processing\n",
    "\n",
    "raw_data_2020 = np.array(image_2020)\n",
    "raw_data_2021 = np.array(image_2021)\n",
    "\n",
    "print(\"2020: {x}\".format(x = raw_data_2020[np.ix_([3, 67, 89])]))\n",
    "print(\"2021: {x}\".format(x = raw_data_2021[np.ix_([3, 67, 89])]))"
   ]
  },
  {
   "cell_type": "code",
   "execution_count": 5,
   "id": "9b19a091",
   "metadata": {},
   "outputs": [
    {
     "name": "stdout",
     "output_type": "stream",
     "text": [
      "Sample pixel from image: (136, 131, 104)\n",
      "Sample Blue values: [123 124 126 ...  29  29  29]\n"
     ]
    }
   ],
   "source": [
    "# each pixel has R, G, B values\n",
    "\n",
    "print(\"Sample pixel from image: {x}\".format(x = image_2020.getpixel((7, 8))))\n",
    "\n",
    "# separating out the different channels:\n",
    "\n",
    "b, g, r    = raw_data_2020[:, :, 0], raw_data_2020[:, :, 1], raw_data_2020[:, :, 2]\n",
    "print(\"Sample Blue values: {x}\".format(x = b[:, 67]))"
   ]
  },
  {
   "cell_type": "code",
   "execution_count": 6,
   "id": "bcc1a1e5",
   "metadata": {},
   "outputs": [
    {
     "data": {
      "image/png": "[encoded data removed]",
      "text/plain": [
       "<Figure size 432x288 with 1 Axes>"
      ]
     },
     "metadata": {
      "needs_background": "light"
     },
     "output_type": "display_data"
    }
   ],
   "source": [
    "# Distribution of pixels per channel in image_2020\n",
    "\n",
    "_ = plt.hist(raw_data_2020.ravel(), bins = 256, color = 'orange', )\n",
    "_ = plt.hist(raw_data_2020[:, :, 0].ravel(), bins = 256, color = 'red', alpha = 0.5)\n",
    "_ = plt.hist(raw_data_2020[:, :, 1].ravel(), bins = 256, color = 'Green', alpha = 0.5)\n",
    "_ = plt.hist(raw_data_2020[:, :, 2].ravel(), bins = 256, color = 'Blue', alpha = 0.5)\n",
    "_ = plt.xlabel('Intensity Value')\n",
    "_ = plt.ylabel('Count')\n",
    "_ = plt.legend(['Total', 'Red_Channel', 'Green_Channel', 'Blue_Channel'])\n",
    "plt.show()"
   ]
  },
  {
   "cell_type": "code",
   "execution_count": 7,
   "id": "95201159",
   "metadata": {
    "scrolled": true
   },
   "outputs": [
    {
     "data": {
      "image/png": "[encoded data removed]",
      "text/plain": [
       "<Figure size 432x288 with 1 Axes>"
      ]
     },
     "metadata": {
      "needs_background": "light"
     },
     "output_type": "display_data"
    }
   ],
   "source": [
    "# Distribution of pixels per channel in image_2021\n",
    "\n",
    "_ = plt.hist(raw_data_2021.ravel(), bins = 256, color = 'orange', )\n",
    "_ = plt.hist(raw_data_2021[:, :, 0].ravel(), bins = 256, color = 'red', alpha = 0.5)\n",
    "_ = plt.hist(raw_data_2021[:, :, 1].ravel(), bins = 256, color = 'Green', alpha = 0.5)\n",
    "_ = plt.hist(raw_data_2021[:, :, 2].ravel(), bins = 256, color = 'Blue', alpha = 0.5)\n",
    "_ = plt.xlabel('Intensity Value')\n",
    "_ = plt.ylabel('Count')\n",
    "_ = plt.legend(['Total', 'Red_Channel', 'Green_Channel', 'Blue_Channel'])\n",
    "plt.show()"
   ]
  },
  {
   "cell_type": "code",
   "execution_count": 8,
   "id": "394b3864",
   "metadata": {
    "scrolled": true
   },
   "outputs": [
    {
     "ename": "ModuleNotFoundError",
     "evalue": "No module named 'cv2'",
     "output_type": "error",
     "traceback": [
      "\u001b[0;31m---------------------------------------------------------------------------\u001b[0m",
      "\u001b[0;31mModuleNotFoundError\u001b[0m                       Traceback (most recent call last)",
      "\u001b[0;32m<ipython-input-8-4f81b917bd76>\u001b[0m in \u001b[0;36m<module>\u001b[0;34m\u001b[0m\n\u001b[0;32m----> 1\u001b[0;31m \u001b[0;32mimport\u001b[0m \u001b[0mcv2\u001b[0m  \u001b[0;31m# It is the latest version of OpenCV which is an image and video processing library\u001b[0m\u001b[0;34m\u001b[0m\u001b[0;34m\u001b[0m\u001b[0m\n\u001b[0m\u001b[1;32m      2\u001b[0m \u001b[0;32mimport\u001b[0m \u001b[0mnumpy\u001b[0m \u001b[0;32mas\u001b[0m \u001b[0mnp\u001b[0m  \u001b[0;31m# It is the core library for scientific computing\u001b[0m\u001b[0;34m\u001b[0m\u001b[0;34m\u001b[0m\u001b[0m\n\u001b[1;32m      3\u001b[0m \u001b[0;32mfrom\u001b[0m \u001b[0msklearn\u001b[0m\u001b[0;34m.\u001b[0m\u001b[0mcluster\u001b[0m \u001b[0;32mimport\u001b[0m \u001b[0mKMeans\u001b[0m   \u001b[0;31m# KMeans clustering algorithm\u001b[0m\u001b[0;34m\u001b[0m\u001b[0;34m\u001b[0m\u001b[0m\n\u001b[1;32m      4\u001b[0m \u001b[0;32mfrom\u001b[0m \u001b[0msklearn\u001b[0m\u001b[0;34m.\u001b[0m\u001b[0mdecomposition\u001b[0m \u001b[0;32mimport\u001b[0m \u001b[0mPCA\u001b[0m  \u001b[0;31m# PCA is a technique to emphasise variation and bring out strong patterns in a data set\u001b[0m\u001b[0;34m\u001b[0m\u001b[0;34m\u001b[0m\u001b[0m\n\u001b[1;32m      5\u001b[0m \u001b[0;32mfrom\u001b[0m \u001b[0mcollections\u001b[0m \u001b[0;32mimport\u001b[0m \u001b[0mCounter\u001b[0m   \u001b[0;31m# A Counter is a container that keeps track of how many times equivalent values are added\u001b[0m\u001b[0;34m\u001b[0m\u001b[0;34m\u001b[0m\u001b[0m\n",
      "\u001b[0;31mModuleNotFoundError\u001b[0m: No module named 'cv2'"
     ]
    }
   ],
   "source": [
    "import cv2  # It is the latest version of OpenCV which is an image and video processing library\n",
    "import numpy as np  # It is the core library for scientific computing\n",
    "from sklearn.cluster import KMeans   # KMeans clustering algorithm\n",
    "from sklearn.decomposition import PCA  # PCA is a technique to emphasise variation and bring out strong patterns in a data set\n",
    "from collections import Counter   # A Counter is a container that keeps track of how many times equivalent values are added\n",
    "from scipy.misc import imread, imresize, imsave   # These are the libraries for importing and working on images\n",
    "\n",
    "\n",
    "def find_vector_set(diff_image, new_size):  \n",
    " \n",
    "    i = 0\n",
    "    j = 0\n",
    "    vector_set = np.zeros((int(new_size[0] * new_size[1] / 25), 25))\n",
    "    while i < vector_set.shape[0]:\n",
    "        while j < new_size[0]:\n",
    "            k = 0\n",
    "            while k < new_size[1]:\n",
    "                block   = diff_image[j:j+5, k:k+5]\n",
    "                feature = block.ravel()\n",
    "                vector_set[i, :] = feature\n",
    "                k = k + 5\n",
    "            j = j + 5\n",
    "        i = i + 1\n",
    " \n",
    "    mean_vec   = np.mean(vector_set, axis = 0)\n",
    "    vector_set = vector_set - mean_vec\n",
    "    return vector_set, mean_vec\n",
    "#In this method, we take non-overlapping blocks of size 5 x 5 from the difference image and flatten them into row vectors.\n",
    "#If the size of our difference image is m x n, then the number of rows in the vector set would be {m x n}/{5 x 5} .\n",
    " \n",
    "\n",
    "def find_FVS(EVS, diff_image, mean_vec, new):\n",
    " \n",
    "    i = 2                        # Building the feature vector space\n",
    "                                 #Function find_FVS() determines the feature vector space \n",
    "    feature_vector_set = []\n",
    " \n",
    "    while i < new[0] - 2:\n",
    "        j = 2\n",
    "        while j < new[1] - 2:\n",
    "            block = diff_image[i-2:i+3, j-2:j+3]\n",
    "            feature = block.flatten()\n",
    "            feature_vector_set.append(feature)\n",
    "            j = j+1\n",
    "        i = i+1\n",
    " \n",
    "    FVS = np.dot(feature_vector_set, EVS)\n",
    "    FVS = FVS - mean_vec\n",
    "    print(\"\\nfeature vector space size\", FVS.shape)\n",
    "    return FVS\n",
    " \n",
    "#The function find_FVS() is similar to find_vector_set(), but extracts overlapping blocks from the difference image.\n",
    "\n",
    "def clustering(FVS, components, new):\n",
    " \n",
    "    kmeans = KMeans(components, verbose = 0)\n",
    "    kmeans.fit(FVS)\n",
    "    output = kmeans.predict(FVS)\n",
    "    count  = Counter(output)\n",
    " \n",
    "    least_index = min(count, key = count.get)\n",
    "    change_map  = np.reshape(output,(new[0] - 4, new[1] - 4))\n",
    "    return least_index, change_map\n",
    "# Clustering of the feature vector space, and change map\n",
    "#the cluster with the lowest number of pixels, and also the highest mean is the cluster belonging to the changed class.\n",
    "\n",
    "def find_PCAKmeans(imagepath1, imagepath2):\n",
    " \n",
    "    image1 = imread(imagepath1)\n",
    "    image2 = imread(imagepath2)\n",
    "# Difference image and the Eigen vector space\n",
    "# difference image is the pixel-by-pixel subtraction of the 2 images\n",
    "# difference image, constructed using the multi temporal images\n",
    "# difference image (i, j) = |image1(i, j) - image2(i, j)|\n",
    "    new_size = np.asarray(image1.shape) / 5\n",
    "    new_size = new_size.astype(int) * 5\n",
    "# The image can be resized to make both the dimensions a multiple of 5 by scipy.misc.imresize()\n",
    "    image1 = imresize(image1, (new_size)).astype(np.int16)\n",
    "    image2 = imresize(image2, (new_size)).astype(np.int16)\n",
    " \n",
    "    diff_image = abs(image1 - image2)\n",
    "    imsave('diff.jpg', diff_image)\n",
    " \n",
    "    vector_set, mean_vec = find_vector_set(diff_image, new_size)\n",
    "    pca     = PCA()  \n",
    "    pca.fit(vector_set)\n",
    "# PCA is applied on vector set to get the Eigen vector space. The Eigen vector space will be a 25 x 25 matrix;\n",
    "    EVS = pca.components_\n",
    " \n",
    "    FVS     = find_FVS(EVS, diff_image, mean_vec, new_size)  # building the feature vector space\n",
    "    components = 3\n",
    "    least_index, change_map = clustering(FVS, components, new_size)\n",
    "\n",
    "# PCA takes a data set and determines its co-variance matrix after performing mean normalisation on it\n",
    "\n",
    "    cleanChangeMap = cv2.erode(change_map,kernel)  #  building a change map (a binary image to show the output of change detection)\n",
    "    imsave(\"changemap.jpg\", change_map)\n",
    "    imsave(\"cleanchangemap.jpg\", cleanChangeMap)  "
   ]
  },
  {
   "cell_type": "code",
   "execution_count": null,
   "id": "ede20f64",
   "metadata": {},
   "outputs": [],
   "source": [
    "image_2020 = Image.open(\"LC08_L1TP_147047_20200507_20200509_01_T1.jpg\")\n",
    "image_2021 = Image.open(\"LC08_L1TP_147047_20210510_20210518_01_T1.jpg\")\n",
    "find_PCAKmeans(a,b)"
   ]
  }
 ],
 "metadata": {
  "kernelspec": {
   "display_name": "Python 3",
   "language": "python",
   "name": "python3"
  },
  "language_info": {
   "codemirror_mode": {
    "name": "ipython",
    "version": 3
   },
   "file_extension": ".py",
   "mimetype": "text/x-python",
   "name": "python",
   "nbconvert_exporter": "python",
   "pygments_lexer": "ipython3",
   "version": "3.6.13"
  }
 },
 "nbformat": 4,
 "nbformat_minor": 5
}
